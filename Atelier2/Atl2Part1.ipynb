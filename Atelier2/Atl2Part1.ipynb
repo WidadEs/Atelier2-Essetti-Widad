{
 "cells": [
  {
   "cell_type": "code",
   "execution_count": 3,
   "id": "809c6777-414c-42c6-9bfa-77038cdb6627",
   "metadata": {},
   "outputs": [
    {
     "name": "stdout",
     "output_type": "stream",
     "text": [
      "['three', 'four', 'one']\n",
      "['150', '1,2', '4,5']\n",
      "['three Samsung smartphones 150', ' four kilos fresh apples 1', '2 kilogram one Tacos 4']\n",
      "Generated Bill:\n",
      " Product Quantity Unit Price Total Price\n",
      "Samsung smartphones 3 150 450.0\n",
      "kilos fresh apples 4 1.2 4.8\n",
      "kilogram  Tacos 1 4.5 4.5\n",
      "\n"
     ]
    }
   ],
   "source": [
    "import re\n",
    "\n",
    "\n",
    "def clean_text(text):\n",
    "    # Define stop words to remove\n",
    "    stop_words = [\"bought\", \"I\", \"for\", \"and\", \"with\", \"a\", \"of\", \"each\", \"dollar\"]\n",
    "\n",
    "    # Remove stop words\n",
    "    cleaned_text = re.sub(r'\\b(?:{})\\b'.format('|'.join(stop_words)), '', text, flags=re.IGNORECASE)\n",
    "\n",
    "    # Remove extra whitespaces\n",
    "    cleaned_text = re.sub(r'\\s+', ' ', cleaned_text).strip()\n",
    "\n",
    "    return cleaned_text\n",
    "\n",
    "\n",
    "def generate_bill(text):\n",
    "    # Clean the text\n",
    "    cleaned_text = clean_text(text)\n",
    "\n",
    "    # Define regex patterns\n",
    "    price_pattern = r'(\\d+(?:,\\d+)?)'  # Pattern to match unit price\n",
    "    quantity_pattern = r'\\b(?:one|two|three|four|five|six|seven|eight|nine|ten)\\b'  # Pattern to match quantity words\n",
    "    item_pattern = r'([\\w\\s]+\\w)'  # Pattern to match item names with spaces\n",
    "\n",
    "    # Find all matches of item names, quantities, and prices\n",
    "    items = re.findall(item_pattern, cleaned_text)\n",
    "    quantities = re.findall(quantity_pattern, cleaned_text)\n",
    "    prices = re.findall(price_pattern, cleaned_text)\n",
    "\n",
    "    print(quantities)\n",
    "    print(prices)\n",
    "    print(items)\n",
    "\n",
    "    # Convert quantity strings to numeric values\n",
    "    quantity_dict = {\n",
    "        'one': 1, 'two': 2, 'three': 3, 'four': 4, 'five': 5,\n",
    "        'six': 6, 'seven': 7, 'eight': 8, 'nine': 9, 'ten': 10\n",
    "    }\n",
    "    quantities_numeric = []\n",
    "    for q in quantities:\n",
    "        if q.isdigit():\n",
    "            quantities_numeric.append(int(q))\n",
    "        else:\n",
    "            quantities_numeric.append(quantity_dict.get(q))\n",
    "\n",
    "    # Prepare the bill table\n",
    "    bill_table = \"Product Quantity Unit Price Total Price\\n\"\n",
    "    for item, quantity, price in zip(items, quantities_numeric, prices):\n",
    "        # Replace comma with dot in price\n",
    "        price = price.replace(',', '.')\n",
    "        total_price = float(price) * quantity\n",
    "        # Remove quantity and price from the item name\n",
    "        item = re.sub(quantity_pattern, '', item).strip()\n",
    "        item = re.sub(price_pattern, '', item).strip()\n",
    "        bill_table += f\"{item} {quantity} {price} {total_price}\\n\"\n",
    "\n",
    "    return bill_table\n",
    "\n",
    "\n",
    "# Example usage\n",
    "user_text = \"I bought three Samsung smartphones 150 $ each, four kilos of fresh apples for 1,2 dollar a kilogram and one Tacos with 4,5 dollar\"\n",
    "generated_bill = generate_bill(user_text)\n",
    "print(\"Generated Bill:\\n\", generated_bill)\n"
   ]
  },
  {
   "cell_type": "markdown",
   "id": "91fc9028-7685-46bd-96d6-0310e59dae06",
   "metadata": {},
   "source": [
    "## Conclusion \n",
    "#### The code provides a solid foundation for text-based bill generation, showcasing effective use of regex patterns and text processing techniques. It can be further enhanced by refining regex patterns to handle a wider range of input variations and by adding error handling for cases where data extraction may fail. Overall, it's a functional and practical solution for basic bill generation tasks from textual descriptions."
   ]
  }
 ],
 "metadata": {
  "kernelspec": {
   "display_name": "Python 3 (ipykernel)",
   "language": "python",
   "name": "python3"
  },
  "language_info": {
   "codemirror_mode": {
    "name": "ipython",
    "version": 3
   },
   "file_extension": ".py",
   "mimetype": "text/x-python",
   "name": "python",
   "nbconvert_exporter": "python",
   "pygments_lexer": "ipython3",
   "version": "3.12.2"
  }
 },
 "nbformat": 4,
 "nbformat_minor": 5
}
